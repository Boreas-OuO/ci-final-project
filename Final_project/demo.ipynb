{
  "nbformat": 4,
  "nbformat_minor": 0,
  "metadata": {
    "colab": {
      "provenance": [],
      "gpuType": "T4"
    },
    "kernelspec": {
      "name": "python3",
      "display_name": "Python 3"
    },
    "language_info": {
      "name": "python"
    },
    "accelerator": "GPU"
  },
  "cells": [
    {
      "cell_type": "code",
      "execution_count": 1,
      "metadata": {
        "id": "VbyfFZfelNPP"
      },
      "outputs": [],
      "source": [
        "import torch\n",
        "import torch.nn as nn\n",
        "from sklearn.model_selection import train_test_split\n",
        "from torch.utils.data import Dataset, DataLoader\n",
        "from tqdm import tqdm\n",
        "import matplotlib.pyplot as plt\n",
        "class LSTMModel(nn.Module):\n",
        "    def __init__(self, input_size, hidden_size, output_size):\n",
        "        super(LSTMModel, self).__init__()\n",
        "        self.hidden_size = hidden_size\n",
        "        self.lstm = nn.LSTM(input_size, hidden_size, batch_first=True)\n",
        "        self.fc = nn.Sequential(nn.Linear(hidden_size, hidden_size),\n",
        "                                nn.Dropout(),\n",
        "                                nn.Linear(hidden_size,output_size))\n",
        "\n",
        "    def forward(self, x):\n",
        "        # Initialize hidden state with zeros\n",
        "        h0 = torch.zeros(1, x.size(0), self.hidden_size).to(x.device)\n",
        "        c0 = torch.zeros(1, x.size(0), self.hidden_size).to(x.device)\n",
        "\n",
        "        # Forward propagate LSTM\n",
        "        out, (h1, c1) = self.lstm(x, (h0, c0))\n",
        "\n",
        "        # Decode the hidden state of the last time step\n",
        "        out = self.fc(out[:, -1, :])\n",
        "        return out"
      ]
    },
    {
      "cell_type": "code",
      "source": [
        "import pandas as pd\n",
        "file_path = './ETTm2.csv'\n",
        "data = pd.read_csv(file_path)\n",
        "data.head()"
      ],
      "metadata": {
        "colab": {
          "base_uri": "https://localhost:8080/",
          "height": 293
        },
        "id": "obR_NIXvlo3g",
        "outputId": "992c45fb-9472-46b1-f3ec-39260d733220"
      },
      "execution_count": 2,
      "outputs": [
        {
          "output_type": "execute_result",
          "data": {
            "text/plain": [
              "                  date       HUFL    HULL       MUFL   MULL   LUFL   LULL  \\\n",
              "0  2016-07-01 00:00:00  41.130001  12.481  36.535999  9.355  4.424  1.311   \n",
              "1  2016-07-01 00:15:00  39.622002  11.309  35.543999  8.551  3.209  1.258   \n",
              "2  2016-07-01 00:30:00  38.868000  10.555  34.365002  7.586  4.435  1.258   \n",
              "3  2016-07-01 00:45:00  35.518002   9.214  32.569000  8.712  4.435  1.215   \n",
              "4  2016-07-01 01:00:00  37.528000  10.136  33.936001  7.532  4.435  1.215   \n",
              "\n",
              "          OT  \n",
              "0  38.661999  \n",
              "1  38.223000  \n",
              "2  37.344002  \n",
              "3  37.124001  \n",
              "4  37.124001  "
            ],
            "text/html": [
              "\n",
              "  <div id=\"df-3e3159e1-0eb3-49cb-a038-78929c438bbf\" class=\"colab-df-container\">\n",
              "    <div>\n",
              "<style scoped>\n",
              "    .dataframe tbody tr th:only-of-type {\n",
              "        vertical-align: middle;\n",
              "    }\n",
              "\n",
              "    .dataframe tbody tr th {\n",
              "        vertical-align: top;\n",
              "    }\n",
              "\n",
              "    .dataframe thead th {\n",
              "        text-align: right;\n",
              "    }\n",
              "</style>\n",
              "<table border=\"1\" class=\"dataframe\">\n",
              "  <thead>\n",
              "    <tr style=\"text-align: right;\">\n",
              "      <th></th>\n",
              "      <th>date</th>\n",
              "      <th>HUFL</th>\n",
              "      <th>HULL</th>\n",
              "      <th>MUFL</th>\n",
              "      <th>MULL</th>\n",
              "      <th>LUFL</th>\n",
              "      <th>LULL</th>\n",
              "      <th>OT</th>\n",
              "    </tr>\n",
              "  </thead>\n",
              "  <tbody>\n",
              "    <tr>\n",
              "      <th>0</th>\n",
              "      <td>2016-07-01 00:00:00</td>\n",
              "      <td>41.130001</td>\n",
              "      <td>12.481</td>\n",
              "      <td>36.535999</td>\n",
              "      <td>9.355</td>\n",
              "      <td>4.424</td>\n",
              "      <td>1.311</td>\n",
              "      <td>38.661999</td>\n",
              "    </tr>\n",
              "    <tr>\n",
              "      <th>1</th>\n",
              "      <td>2016-07-01 00:15:00</td>\n",
              "      <td>39.622002</td>\n",
              "      <td>11.309</td>\n",
              "      <td>35.543999</td>\n",
              "      <td>8.551</td>\n",
              "      <td>3.209</td>\n",
              "      <td>1.258</td>\n",
              "      <td>38.223000</td>\n",
              "    </tr>\n",
              "    <tr>\n",
              "      <th>2</th>\n",
              "      <td>2016-07-01 00:30:00</td>\n",
              "      <td>38.868000</td>\n",
              "      <td>10.555</td>\n",
              "      <td>34.365002</td>\n",
              "      <td>7.586</td>\n",
              "      <td>4.435</td>\n",
              "      <td>1.258</td>\n",
              "      <td>37.344002</td>\n",
              "    </tr>\n",
              "    <tr>\n",
              "      <th>3</th>\n",
              "      <td>2016-07-01 00:45:00</td>\n",
              "      <td>35.518002</td>\n",
              "      <td>9.214</td>\n",
              "      <td>32.569000</td>\n",
              "      <td>8.712</td>\n",
              "      <td>4.435</td>\n",
              "      <td>1.215</td>\n",
              "      <td>37.124001</td>\n",
              "    </tr>\n",
              "    <tr>\n",
              "      <th>4</th>\n",
              "      <td>2016-07-01 01:00:00</td>\n",
              "      <td>37.528000</td>\n",
              "      <td>10.136</td>\n",
              "      <td>33.936001</td>\n",
              "      <td>7.532</td>\n",
              "      <td>4.435</td>\n",
              "      <td>1.215</td>\n",
              "      <td>37.124001</td>\n",
              "    </tr>\n",
              "  </tbody>\n",
              "</table>\n",
              "</div>\n",
              "    <div class=\"colab-df-buttons\">\n",
              "\n",
              "  <div class=\"colab-df-container\">\n",
              "    <button class=\"colab-df-convert\" onclick=\"convertToInteractive('df-3e3159e1-0eb3-49cb-a038-78929c438bbf')\"\n",
              "            title=\"Convert this dataframe to an interactive table.\"\n",
              "            style=\"display:none;\">\n",
              "\n",
              "  <svg xmlns=\"http://www.w3.org/2000/svg\" height=\"24px\" viewBox=\"0 -960 960 960\">\n",
              "    <path d=\"M120-120v-720h720v720H120Zm60-500h600v-160H180v160Zm220 220h160v-160H400v160Zm0 220h160v-160H400v160ZM180-400h160v-160H180v160Zm440 0h160v-160H620v160ZM180-180h160v-160H180v160Zm440 0h160v-160H620v160Z\"/>\n",
              "  </svg>\n",
              "    </button>\n",
              "\n",
              "  <style>\n",
              "    .colab-df-container {\n",
              "      display:flex;\n",
              "      gap: 12px;\n",
              "    }\n",
              "\n",
              "    .colab-df-convert {\n",
              "      background-color: #E8F0FE;\n",
              "      border: none;\n",
              "      border-radius: 50%;\n",
              "      cursor: pointer;\n",
              "      display: none;\n",
              "      fill: #1967D2;\n",
              "      height: 32px;\n",
              "      padding: 0 0 0 0;\n",
              "      width: 32px;\n",
              "    }\n",
              "\n",
              "    .colab-df-convert:hover {\n",
              "      background-color: #E2EBFA;\n",
              "      box-shadow: 0px 1px 2px rgba(60, 64, 67, 0.3), 0px 1px 3px 1px rgba(60, 64, 67, 0.15);\n",
              "      fill: #174EA6;\n",
              "    }\n",
              "\n",
              "    .colab-df-buttons div {\n",
              "      margin-bottom: 4px;\n",
              "    }\n",
              "\n",
              "    [theme=dark] .colab-df-convert {\n",
              "      background-color: #3B4455;\n",
              "      fill: #D2E3FC;\n",
              "    }\n",
              "\n",
              "    [theme=dark] .colab-df-convert:hover {\n",
              "      background-color: #434B5C;\n",
              "      box-shadow: 0px 1px 3px 1px rgba(0, 0, 0, 0.15);\n",
              "      filter: drop-shadow(0px 1px 2px rgba(0, 0, 0, 0.3));\n",
              "      fill: #FFFFFF;\n",
              "    }\n",
              "  </style>\n",
              "\n",
              "    <script>\n",
              "      const buttonEl =\n",
              "        document.querySelector('#df-3e3159e1-0eb3-49cb-a038-78929c438bbf button.colab-df-convert');\n",
              "      buttonEl.style.display =\n",
              "        google.colab.kernel.accessAllowed ? 'block' : 'none';\n",
              "\n",
              "      async function convertToInteractive(key) {\n",
              "        const element = document.querySelector('#df-3e3159e1-0eb3-49cb-a038-78929c438bbf');\n",
              "        const dataTable =\n",
              "          await google.colab.kernel.invokeFunction('convertToInteractive',\n",
              "                                                    [key], {});\n",
              "        if (!dataTable) return;\n",
              "\n",
              "        const docLinkHtml = 'Like what you see? Visit the ' +\n",
              "          '<a target=\"_blank\" href=https://colab.research.google.com/notebooks/data_table.ipynb>data table notebook</a>'\n",
              "          + ' to learn more about interactive tables.';\n",
              "        element.innerHTML = '';\n",
              "        dataTable['output_type'] = 'display_data';\n",
              "        await google.colab.output.renderOutput(dataTable, element);\n",
              "        const docLink = document.createElement('div');\n",
              "        docLink.innerHTML = docLinkHtml;\n",
              "        element.appendChild(docLink);\n",
              "      }\n",
              "    </script>\n",
              "  </div>\n",
              "\n",
              "\n",
              "<div id=\"df-4993e32d-44e5-44b5-ad58-6ceb43326337\">\n",
              "  <button class=\"colab-df-quickchart\" onclick=\"quickchart('df-4993e32d-44e5-44b5-ad58-6ceb43326337')\"\n",
              "            title=\"Suggest charts\"\n",
              "            style=\"display:none;\">\n",
              "\n",
              "<svg xmlns=\"http://www.w3.org/2000/svg\" height=\"24px\"viewBox=\"0 0 24 24\"\n",
              "     width=\"24px\">\n",
              "    <g>\n",
              "        <path d=\"M19 3H5c-1.1 0-2 .9-2 2v14c0 1.1.9 2 2 2h14c1.1 0 2-.9 2-2V5c0-1.1-.9-2-2-2zM9 17H7v-7h2v7zm4 0h-2V7h2v10zm4 0h-2v-4h2v4z\"/>\n",
              "    </g>\n",
              "</svg>\n",
              "  </button>\n",
              "\n",
              "<style>\n",
              "  .colab-df-quickchart {\n",
              "      --bg-color: #E8F0FE;\n",
              "      --fill-color: #1967D2;\n",
              "      --hover-bg-color: #E2EBFA;\n",
              "      --hover-fill-color: #174EA6;\n",
              "      --disabled-fill-color: #AAA;\n",
              "      --disabled-bg-color: #DDD;\n",
              "  }\n",
              "\n",
              "  [theme=dark] .colab-df-quickchart {\n",
              "      --bg-color: #3B4455;\n",
              "      --fill-color: #D2E3FC;\n",
              "      --hover-bg-color: #434B5C;\n",
              "      --hover-fill-color: #FFFFFF;\n",
              "      --disabled-bg-color: #3B4455;\n",
              "      --disabled-fill-color: #666;\n",
              "  }\n",
              "\n",
              "  .colab-df-quickchart {\n",
              "    background-color: var(--bg-color);\n",
              "    border: none;\n",
              "    border-radius: 50%;\n",
              "    cursor: pointer;\n",
              "    display: none;\n",
              "    fill: var(--fill-color);\n",
              "    height: 32px;\n",
              "    padding: 0;\n",
              "    width: 32px;\n",
              "  }\n",
              "\n",
              "  .colab-df-quickchart:hover {\n",
              "    background-color: var(--hover-bg-color);\n",
              "    box-shadow: 0 1px 2px rgba(60, 64, 67, 0.3), 0 1px 3px 1px rgba(60, 64, 67, 0.15);\n",
              "    fill: var(--button-hover-fill-color);\n",
              "  }\n",
              "\n",
              "  .colab-df-quickchart-complete:disabled,\n",
              "  .colab-df-quickchart-complete:disabled:hover {\n",
              "    background-color: var(--disabled-bg-color);\n",
              "    fill: var(--disabled-fill-color);\n",
              "    box-shadow: none;\n",
              "  }\n",
              "\n",
              "  .colab-df-spinner {\n",
              "    border: 2px solid var(--fill-color);\n",
              "    border-color: transparent;\n",
              "    border-bottom-color: var(--fill-color);\n",
              "    animation:\n",
              "      spin 1s steps(1) infinite;\n",
              "  }\n",
              "\n",
              "  @keyframes spin {\n",
              "    0% {\n",
              "      border-color: transparent;\n",
              "      border-bottom-color: var(--fill-color);\n",
              "      border-left-color: var(--fill-color);\n",
              "    }\n",
              "    20% {\n",
              "      border-color: transparent;\n",
              "      border-left-color: var(--fill-color);\n",
              "      border-top-color: var(--fill-color);\n",
              "    }\n",
              "    30% {\n",
              "      border-color: transparent;\n",
              "      border-left-color: var(--fill-color);\n",
              "      border-top-color: var(--fill-color);\n",
              "      border-right-color: var(--fill-color);\n",
              "    }\n",
              "    40% {\n",
              "      border-color: transparent;\n",
              "      border-right-color: var(--fill-color);\n",
              "      border-top-color: var(--fill-color);\n",
              "    }\n",
              "    60% {\n",
              "      border-color: transparent;\n",
              "      border-right-color: var(--fill-color);\n",
              "    }\n",
              "    80% {\n",
              "      border-color: transparent;\n",
              "      border-right-color: var(--fill-color);\n",
              "      border-bottom-color: var(--fill-color);\n",
              "    }\n",
              "    90% {\n",
              "      border-color: transparent;\n",
              "      border-bottom-color: var(--fill-color);\n",
              "    }\n",
              "  }\n",
              "</style>\n",
              "\n",
              "  <script>\n",
              "    async function quickchart(key) {\n",
              "      const quickchartButtonEl =\n",
              "        document.querySelector('#' + key + ' button');\n",
              "      quickchartButtonEl.disabled = true;  // To prevent multiple clicks.\n",
              "      quickchartButtonEl.classList.add('colab-df-spinner');\n",
              "      try {\n",
              "        const charts = await google.colab.kernel.invokeFunction(\n",
              "            'suggestCharts', [key], {});\n",
              "      } catch (error) {\n",
              "        console.error('Error during call to suggestCharts:', error);\n",
              "      }\n",
              "      quickchartButtonEl.classList.remove('colab-df-spinner');\n",
              "      quickchartButtonEl.classList.add('colab-df-quickchart-complete');\n",
              "    }\n",
              "    (() => {\n",
              "      let quickchartButtonEl =\n",
              "        document.querySelector('#df-4993e32d-44e5-44b5-ad58-6ceb43326337 button');\n",
              "      quickchartButtonEl.style.display =\n",
              "        google.colab.kernel.accessAllowed ? 'block' : 'none';\n",
              "    })();\n",
              "  </script>\n",
              "</div>\n",
              "\n",
              "    </div>\n",
              "  </div>\n"
            ]
          },
          "metadata": {},
          "execution_count": 2
        }
      ]
    },
    {
      "cell_type": "code",
      "source": [
        "import numpy as np\n",
        "class LSTMDataSet(Dataset):\n",
        "    def __init__(self,\n",
        "                 data,\n",
        "                 seq_len,\n",
        "                 pred_len,\n",
        "                 train=True,\n",
        "                 test_size=0.2):\n",
        "        self.seq_len = seq_len\n",
        "        self.pred_len = pred_len\n",
        "\n",
        "        if train:\n",
        "            self.data_, _, = train_test_split(data, test_size=test_size,shuffle=False)\n",
        "        else:\n",
        "            _, self.data_ = train_test_split(data, test_size=test_size,shuffle=False)\n",
        "        self.data = self.data_.astype(np.float32)\n",
        "        self.data_len = self.data.shape[0] - seq_len - pred_len - 1\n",
        "\n",
        "    def __len__(self):\n",
        "        return self.data_len\n",
        "\n",
        "    def __getitem__(self, idx):\n",
        "        X = self.data[idx:idx+self.seq_len,:]\n",
        "        y = self.data[idx+self.seq_len:idx+self.seq_len+self.pred_len,-1]\n",
        "        return X, y"
      ],
      "metadata": {
        "id": "BVwbmh_2lvy4"
      },
      "execution_count": 3,
      "outputs": []
    },
    {
      "cell_type": "code",
      "source": [
        "# Example usage\n",
        "input_size = 7  # Example input size\n",
        "hidden_size = 100\n",
        "batch_size = 5196\n",
        "seq_len = 96\n",
        "pred_len = 32\n",
        "lr = 1e-4\n",
        "num_epochs = 2_000\n",
        "\n",
        "trainset = LSTMDataSet(data=data.values[:,1:],seq_len=seq_len,pred_len=pred_len,train=True)\n",
        "testset = LSTMDataSet(data=data.values[:,1:],seq_len=seq_len,pred_len=pred_len,train=False)\n",
        "trainloader = DataLoader(trainset,batch_size=batch_size,shuffle=False)\n",
        "testloader = DataLoader(testset,batch_size=batch_size,shuffle=False)\n",
        "output_size = pred_len  # Example output size\n",
        "\n",
        "# Create a random input tensor\n",
        "input_data = torch.randn(batch_size, seq_len, input_size)\n",
        "\n",
        "# Create the model\n",
        "model = LSTMModel(input_size, hidden_size, output_size)\n",
        "\n",
        "# Forward pass\n",
        "output = model(input_data)\n",
        "print(\"Output shape:\", output.shape)  # Expected output shape: (batch_size, output_size)\n",
        "optimizer = torch.optim.Adam(model.parameters(), lr=lr)\n",
        "criterion = nn.MSELoss()\n",
        "device = torch.device(\"cuda\" if torch.cuda.is_available() else \"cpu\")\n",
        "model.to(device)\n"
      ],
      "metadata": {
        "colab": {
          "base_uri": "https://localhost:8080/"
        },
        "id": "rNpUqqTdmLpk",
        "outputId": "2c3eb622-aa1c-4ccb-8004-bf3a885f0fdb"
      },
      "execution_count": 23,
      "outputs": [
        {
          "output_type": "stream",
          "name": "stdout",
          "text": [
            "Output shape: torch.Size([5196, 32])\n"
          ]
        },
        {
          "output_type": "execute_result",
          "data": {
            "text/plain": [
              "LSTMModel(\n",
              "  (lstm): LSTM(7, 100, batch_first=True)\n",
              "  (fc): Sequential(\n",
              "    (0): Linear(in_features=100, out_features=100, bias=True)\n",
              "    (1): Dropout(p=0.5, inplace=False)\n",
              "    (2): Linear(in_features=100, out_features=32, bias=True)\n",
              "  )\n",
              ")"
            ]
          },
          "metadata": {},
          "execution_count": 23
        }
      ]
    },
    {
      "cell_type": "code",
      "source": [
        "start_epoch = 0\n",
        "train_log,test_log = np.zeros(start_epoch+num_epochs,),np.zeros(start_epoch+num_epochs,)"
      ],
      "metadata": {
        "id": "tMPYUphImOx2"
      },
      "execution_count": 24,
      "outputs": []
    },
    {
      "cell_type": "code",
      "source": [
        "with tqdm(total=num_epochs) as pbar:\n",
        "    pbar.update(0)\n",
        "    for epoch in range(num_epochs):\n",
        "        epoch_loss = 0\n",
        "        model.train()\n",
        "        for inputs_,targets_ in trainloader:\n",
        "            inputs,targets = inputs_.to(device),targets_.to(device)\n",
        "            optimizer.zero_grad()\n",
        "            outputs = model(inputs)\n",
        "            loss = criterion(outputs, targets)\n",
        "            loss.backward()\n",
        "            optimizer.step()\n",
        "            batch_loss = loss.item()\n",
        "            epoch_loss += batch_loss*inputs.size(0)\n",
        "        epoch_loss /= trainset.__len__()\n",
        "        model.eval()\n",
        "        test_epoch_loss = 0\n",
        "        for inputs_,targets_ in testloader:\n",
        "            inputs,targets = inputs_.to(device),targets_.to(device)\n",
        "            outputs = model(inputs)\n",
        "            loss = criterion(outputs, targets)\n",
        "            batch_loss = loss.item()\n",
        "            test_epoch_loss += batch_loss*inputs.size(0)\n",
        "        test_epoch_loss /= testset.__len__()\n",
        "        train_log[start_epoch+epoch] = epoch_loss\n",
        "        test_log[start_epoch+epoch] = test_epoch_loss\n",
        "        pbar.set_postfix(train_loss=epoch_loss,test_loss=test_epoch_loss,epoch=start_epoch+epoch+1)\n",
        "        pbar.update(1)\n",
        ""
      ],
      "metadata": {
        "colab": {
          "base_uri": "https://localhost:8080/"
        },
        "id": "Wc-Pexh6mRbh",
        "outputId": "682eafbe-207b-4dc7-c853-cda5412d51a8"
      },
      "execution_count": 25,
      "outputs": [
        {
          "output_type": "stream",
          "name": "stderr",
          "text": [
            "100%|██████████| 2000/2000 [33:26<00:00,  1.00s/it, epoch=2000, test_loss=115, train_loss=11.6]\n"
          ]
        }
      ]
    },
    {
      "cell_type": "code",
      "source": [
        "checkpoint = {\n",
        "    'epoch': epoch,\n",
        "    'state_dict': model.state_dict(),\n",
        "    'train_log': train_log,\n",
        "    'test_log':test_log}\n",
        "torch.save(checkpoint, f\"{pred_len}checkpoint{start_epoch+epoch+1}.pth\")"
      ],
      "metadata": {
        "id": "IjF1fOUtmSoz"
      },
      "execution_count": 30,
      "outputs": []
    },
    {
      "cell_type": "code",
      "source": [
        "for inputs_,targets_ in trainloader:\n",
        "    inputs,targets = inputs_.to(device),targets_.to(device)\n",
        "    break"
      ],
      "metadata": {
        "id": "Jx-huhTymVPJ"
      },
      "execution_count": 11,
      "outputs": []
    },
    {
      "cell_type": "code",
      "source": [
        "outputs = model(inputs)\n",
        "output.shape"
      ],
      "metadata": {
        "colab": {
          "base_uri": "https://localhost:8080/"
        },
        "id": "rCrCLxRTm5PI",
        "outputId": "2ebd0b65-8dd4-4bb2-b5d4-cd568684d779"
      },
      "execution_count": 12,
      "outputs": [
        {
          "output_type": "execute_result",
          "data": {
            "text/plain": [
              "torch.Size([5196, 96])"
            ]
          },
          "metadata": {},
          "execution_count": 12
        }
      ]
    },
    {
      "cell_type": "code",
      "source": [
        "index=1\n",
        "plt.plot(targets.cpu(index)[0])\n",
        "plt.plot(outputs.detach().cpu(index)[0])\n",
        "plt.legend(['target', 'output'])"
      ],
      "metadata": {
        "colab": {
          "base_uri": "https://localhost:8080/",
          "height": 448
        },
        "id": "Tz1J6AwYpbyP",
        "outputId": "da7944d7-e302-4362-f3d0-f3571013f0c0"
      },
      "execution_count": 14,
      "outputs": [
        {
          "output_type": "execute_result",
          "data": {
            "text/plain": [
              "<matplotlib.legend.Legend at 0x7a1a7fd969b0>"
            ]
          },
          "metadata": {},
          "execution_count": 14
        },
        {
          "output_type": "display_data",
          "data": {
            "text/plain": [
              "<Figure size 640x480 with 1 Axes>"
            ],
            "image/png": "[encoded data removed]"
          },
          "metadata": {}
        }
      ]
    },
    {
      "cell_type": "code",
      "source": [
        "import torch\n",
        "import torch.nn as nn\n",
        "from sklearn.model_selection import train_test_split\n",
        "from torch.utils.data import Dataset, DataLoader\n",
        "from tqdm import tqdm\n",
        "import matplotlib.pyplot as plt\n",
        "class LSTMModel(nn.Module):\n",
        "    def __init__(self, input_size, hidden_size, output_size):\n",
        "        super(LSTMModel, self).__init__()\n",
        "        self.hidden_size = hidden_size\n",
        "        self.lstm = nn.LSTM(input_size, hidden_size, batch_first=True)\n",
        "        self.fc = nn.Sequential(nn.Linear(hidden_size, hidden_size),\n",
        "                                nn.Dropout(),\n",
        "                                nn.Linear(hidden_size,output_size))\n",
        "\n",
        "    def forward(self, x):\n",
        "        # Initialize hidden state with zeros\n",
        "        h0 = torch.zeros(1, x.size(0), self.hidden_size).to(x.device)\n",
        "        c0 = torch.zeros(1, x.size(0), self.hidden_size).to(x.device)\n",
        "\n",
        "        # Forward propagate LSTM\n",
        "        out, (h1, c1) = self.lstm(x, (h0, c0))\n",
        "\n",
        "        # Decode the hidden state of the last time step\n",
        "        out = self.fc(out[:, -1, :])\n",
        "        return out\n",
        "import numpy as np\n",
        "import pywt\n",
        "class LSTMDataSet(Dataset):\n",
        "    def __init__(self,\n",
        "                 data,\n",
        "                 seq_len,\n",
        "                 pred_len,\n",
        "                 train=True,\n",
        "                 test_size=0.2):\n",
        "        self.seq_len = seq_len\n",
        "        self.pred_len = pred_len\n",
        "        self.train = train\n",
        "\n",
        "        if train:\n",
        "            self.data_, _, = train_test_split(data, test_size=test_size,shuffle=False)\n",
        "            data = self.data_.astype(np.float32)\n",
        "            self.data = self.wavelet(data,wavelet_name='db4',threshold=0.5)\n",
        "        else:\n",
        "            _, self.data_ = train_test_split(data, test_size=test_size,shuffle=False)\n",
        "            self.data_o = self.data_.astype(np.float32)\n",
        "            self.data = self.wavelet(self.data_o,wavelet_name='db4',threshold=0.5)\n",
        "        self.data_len = self.data.shape[0] - seq_len - pred_len - 1\n",
        "\n",
        "    def __len__(self):\n",
        "        return self.data_len\n",
        "\n",
        "    def __getitem__(self, idx):\n",
        "        X = self.data[idx:idx+self.seq_len,:]\n",
        "        if self.train:\n",
        "            y = self.data[idx+self.seq_len:idx+self.seq_len+self.pred_len,-1]\n",
        "        else:\n",
        "            y = self.data_o[idx+self.seq_len:idx+self.seq_len+self.pred_len,-1]\n",
        "        return X, y\n",
        "    def wavelet(self,data,wavelet_name='db4',threshold=0.5):\n",
        "        coeffs = pywt.wavedec(data, wavelet_name)\n",
        "        coeffs_thresholded = [pywt.threshold(c, threshold, mode='soft') for c in coeffs]\n",
        "        reconstructed_signal = pywt.waverec(coeffs_thresholded, wavelet_name)\n",
        "        return reconstructed_signal\n",
        "# Example usage\n",
        "input_size = 7  # Example input size\n",
        "hidden_size = 100\n",
        "batch_size = 1024\n",
        "seq_len = 96\n",
        "pred_len = 32\n",
        "lr = 1e-4\n",
        "num_epochs = 1_000\n",
        "\n",
        "trainset = LSTMDataSet(data=data.values[:,1:],seq_len=seq_len,pred_len=pred_len,train=True)\n",
        "testset = LSTMDataSet(data=data.values[:,1:],seq_len=seq_len,pred_len=pred_len,train=False)\n",
        "trainloader = DataLoader(trainset,batch_size=batch_size,shuffle=False)\n",
        "testloader = DataLoader(testset,batch_size=batch_size,shuffle=False)\n",
        "output_size = pred_len  # Example output size\n",
        "\n",
        "# Create a random input tensor\n",
        "input_data = torch.randn(batch_size, seq_len, input_size)\n",
        "\n",
        "# Create the model\n",
        "model = LSTMModel(input_size, hidden_size, output_size)\n",
        "\n",
        "# Forward pass\n",
        "output = model(input_data)\n",
        "print(\"Output shape:\", output.shape)  # Expected output shape: (batch_size, output_size)\n",
        "optimizer = torch.optim.Adam(model.parameters(), lr=lr)\n",
        "criterion = nn.MSELoss()\n",
        "device = torch.device(\"cuda\" if torch.cuda.is_available() else \"cpu\")\n",
        "model.to(device)\n",
        "try:\n",
        "    checkpoint = torch.load('./wav_checkpoint2000.pth')\n",
        "    print('load success')\n",
        "    model.load_state_dict(checkpoint['state_dict'])\n",
        "    #start_epoch = checkpoint['epoch']+1\n",
        "    start_epoch = 2000\n",
        "    train_log,test_log = np.zeros(start_epoch+num_epochs,),np.zeros(start_epoch+num_epochs,)\n",
        "    train_log[:start_epoch] = checkpoint['train_log']\n",
        "    test_log[:start_epoch] = checkpoint['test_log']\n",
        "\n",
        "except:\n",
        "    start_epoch = 0\n",
        "    train_log,test_log = np.zeros(start_epoch+num_epochs,),np.zeros(start_epoch+num_epochs,)\n",
        "    print('creat new')"
      ],
      "metadata": {
        "colab": {
          "base_uri": "https://localhost:8080/"
        },
        "id": "C4R6Gv2kpdFA",
        "outputId": "0edd3c4a-7973-4105-e00f-9b5888ebf8d7"
      },
      "execution_count": 27,
      "outputs": [
        {
          "output_type": "stream",
          "name": "stdout",
          "text": [
            "Output shape: torch.Size([1024, 32])\n",
            "creat new\n"
          ]
        }
      ]
    },
    {
      "cell_type": "code",
      "source": [
        "with tqdm(total=num_epochs) as pbar:\n",
        "    pbar.update(0)\n",
        "    for epoch in range(num_epochs):\n",
        "        epoch_loss = 0\n",
        "        model.train()\n",
        "        for inputs_,targets_ in trainloader:\n",
        "            inputs,targets = inputs_.to(device),targets_.to(device)\n",
        "            optimizer.zero_grad()\n",
        "            outputs = model(inputs)\n",
        "            loss = criterion(outputs, targets)\n",
        "            loss.backward()\n",
        "            optimizer.step()\n",
        "            batch_loss = loss.item()\n",
        "            epoch_loss += batch_loss*inputs.size(0)\n",
        "        epoch_loss /= trainset.__len__()\n",
        "        model.eval()\n",
        "        test_epoch_loss = 0\n",
        "        for inputs_,targets_ in testloader:\n",
        "            inputs,targets = inputs_.to(device),targets_.to(device)\n",
        "            outputs = model(inputs)\n",
        "            loss = criterion(outputs, targets)\n",
        "            batch_loss = loss.item()\n",
        "            test_epoch_loss += batch_loss*inputs.size(0)\n",
        "        test_epoch_loss /= testset.__len__()\n",
        "        train_log[start_epoch+epoch] = epoch_loss\n",
        "        test_log[start_epoch+epoch] = test_epoch_loss\n",
        "        pbar.set_postfix(train_loss=epoch_loss,test_loss=test_epoch_loss,epoch=start_epoch+epoch+1)\n",
        "        pbar.update(1)\n",
        ""
      ],
      "metadata": {
        "colab": {
          "base_uri": "https://localhost:8080/"
        },
        "id": "5wU3YXN6rIVa",
        "outputId": "c1455f59-358a-47b8-9d27-f9d5ea504b38"
      },
      "execution_count": 28,
      "outputs": [
        {
          "output_type": "stream",
          "name": "stderr",
          "text": [
            "100%|██████████| 1000/1000 [16:01<00:00,  1.04it/s, epoch=1000, test_loss=129, train_loss=11.9]\n"
          ]
        }
      ]
    },
    {
      "cell_type": "code",
      "source": [
        "checkpoint = {\n",
        "    'epoch': epoch,\n",
        "    'state_dict': model.state_dict(),\n",
        "    'train_log': train_log,\n",
        "    'test_log':test_log}\n",
        "torch.save(checkpoint, f\"{pred_len}wav_checkpoint{start_epoch+epoch+1}.pth\")"
      ],
      "metadata": {
        "id": "HwdbLzL-p8CF"
      },
      "execution_count": 29,
      "outputs": []
    },
    {
      "cell_type": "code",
      "source": [
        "from torchviz import make_dot\n",
        "x = torch.randn(batch_size, seq_len, input_size).requires_grad_(True).to(device)  # 定义一个网络的输入值\n",
        "y = model(x)    # 获取网络的预测值\n",
        "\n",
        "MyConvNetVis = make_dot(y, params=dict(list(model.named_parameters()) + [('x', x)]))\n",
        "MyConvNetVis.format = \"png\"\n",
        "# 指定文件生成的文件夹\n",
        "MyConvNetVis.directory = \"data\"\n",
        "# 生成文件\n",
        "MyConvNetVis.view()"
      ],
      "metadata": {
        "colab": {
          "base_uri": "https://localhost:8080/",
          "height": 35
        },
        "id": "JWaJMVb3t8YM",
        "outputId": "03e9acda-e4a0-41a0-ee5c-4995d1b86615"
      },
      "execution_count": 22,
      "outputs": [
        {
          "output_type": "execute_result",
          "data": {
            "text/plain": [
              "'data/Digraph.gv.png'"
            ],
            "application/vnd.google.colaboratory.intrinsic+json": {
              "type": "string"
            }
          },
          "metadata": {},
          "execution_count": 22
        }
      ]
    },
    {
      "cell_type": "code",
      "source": [],
      "metadata": {
        "id": "xV2RXo_vPg0Q"
      },
      "execution_count": null,
      "outputs": []
    }
  ]
}