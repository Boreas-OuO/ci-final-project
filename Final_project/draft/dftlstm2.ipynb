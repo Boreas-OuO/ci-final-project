{
 "cells": [
  {
   "cell_type": "code",
   "execution_count": 1,
   "metadata": {},
   "outputs": [],
   "source": [
    "import torch\n",
    "import torch.nn as nn\n",
    "from sklearn.model_selection import train_test_split\n",
    "from torch.utils.data import Dataset, DataLoader\n",
    "from tqdm import tqdm\n",
    "import matplotlib.pyplot as plt\n",
    "import pandas as pd\n",
    "import numpy as np\n",
    "from scipy.signal import medfilt\n",
    "class LSTMDFT(nn.Module):\n",
    "    def __init__(self, input_size, hidden_size, output_size):\n",
    "        super(LSTMDFT, self).__init__()\n",
    "        self.hidden_size = hidden_size\n",
    "        self.lstm = nn.LSTM(input_size, hidden_size, batch_first=True)\n",
    "        self.fc = nn.Sequential(nn.Linear(hidden_size, hidden_size),\n",
    "                                nn.Dropout(),\n",
    "                                nn.Linear(hidden_size,output_size))\n",
    "\n",
    "    def forward(self, x):\n",
    "        # Initialize hidden state with zeros\n",
    "        h0 = torch.zeros(1, x.size(0), self.hidden_size).to(x.device)\n",
    "        c0 = torch.zeros(1, x.size(0), self.hidden_size).to(x.device)\n",
    "\n",
    "        # Forward propagate LSTM\n",
    "        out, (h1, c1) = self.lstm(x, (h0, c0))\n",
    "        \n",
    "        # Decode the hidden state of the last time step\n",
    "        out = self.fc(out[:, -1, :])\n",
    "        return out"
   ]
  },
  {
   "cell_type": "code",
   "execution_count": 2,
   "metadata": {},
   "outputs": [
    {
     "data": {
      "text/html": [
       "<div>\n",
       "<style scoped>\n",
       "    .dataframe tbody tr th:only-of-type {\n",
       "        vertical-align: middle;\n",
       "    }\n",
       "\n",
       "    .dataframe tbody tr th {\n",
       "        vertical-align: top;\n",
       "    }\n",
       "\n",
       "    .dataframe thead th {\n",
       "        text-align: right;\n",
       "    }\n",
       "</style>\n",
       "<table border=\"1\" class=\"dataframe\">\n",
       "  <thead>\n",
       "    <tr style=\"text-align: right;\">\n",
       "      <th></th>\n",
       "      <th>date</th>\n",
       "      <th>HUFL</th>\n",
       "      <th>HULL</th>\n",
       "      <th>MUFL</th>\n",
       "      <th>MULL</th>\n",
       "      <th>LUFL</th>\n",
       "      <th>LULL</th>\n",
       "      <th>OT</th>\n",
       "    </tr>\n",
       "  </thead>\n",
       "  <tbody>\n",
       "    <tr>\n",
       "      <th>0</th>\n",
       "      <td>2016-07-01 00:00:00</td>\n",
       "      <td>41.130001</td>\n",
       "      <td>12.481</td>\n",
       "      <td>36.535999</td>\n",
       "      <td>9.355</td>\n",
       "      <td>4.424</td>\n",
       "      <td>1.311</td>\n",
       "      <td>38.661999</td>\n",
       "    </tr>\n",
       "    <tr>\n",
       "      <th>1</th>\n",
       "      <td>2016-07-01 00:15:00</td>\n",
       "      <td>39.622002</td>\n",
       "      <td>11.309</td>\n",
       "      <td>35.543999</td>\n",
       "      <td>8.551</td>\n",
       "      <td>3.209</td>\n",
       "      <td>1.258</td>\n",
       "      <td>38.223000</td>\n",
       "    </tr>\n",
       "    <tr>\n",
       "      <th>2</th>\n",
       "      <td>2016-07-01 00:30:00</td>\n",
       "      <td>38.868000</td>\n",
       "      <td>10.555</td>\n",
       "      <td>34.365002</td>\n",
       "      <td>7.586</td>\n",
       "      <td>4.435</td>\n",
       "      <td>1.258</td>\n",
       "      <td>37.344002</td>\n",
       "    </tr>\n",
       "    <tr>\n",
       "      <th>3</th>\n",
       "      <td>2016-07-01 00:45:00</td>\n",
       "      <td>35.518002</td>\n",
       "      <td>9.214</td>\n",
       "      <td>32.569000</td>\n",
       "      <td>8.712</td>\n",
       "      <td>4.435</td>\n",
       "      <td>1.215</td>\n",
       "      <td>37.124001</td>\n",
       "    </tr>\n",
       "    <tr>\n",
       "      <th>4</th>\n",
       "      <td>2016-07-01 01:00:00</td>\n",
       "      <td>37.528000</td>\n",
       "      <td>10.136</td>\n",
       "      <td>33.936001</td>\n",
       "      <td>7.532</td>\n",
       "      <td>4.435</td>\n",
       "      <td>1.215</td>\n",
       "      <td>37.124001</td>\n",
       "    </tr>\n",
       "  </tbody>\n",
       "</table>\n",
       "</div>"
      ],
      "text/plain": [
       "                  date       HUFL    HULL       MUFL   MULL   LUFL   LULL  \\\n",
       "0  2016-07-01 00:00:00  41.130001  12.481  36.535999  9.355  4.424  1.311   \n",
       "1  2016-07-01 00:15:00  39.622002  11.309  35.543999  8.551  3.209  1.258   \n",
       "2  2016-07-01 00:30:00  38.868000  10.555  34.365002  7.586  4.435  1.258   \n",
       "3  2016-07-01 00:45:00  35.518002   9.214  32.569000  8.712  4.435  1.215   \n",
       "4  2016-07-01 01:00:00  37.528000  10.136  33.936001  7.532  4.435  1.215   \n",
       "\n",
       "          OT  \n",
       "0  38.661999  \n",
       "1  38.223000  \n",
       "2  37.344002  \n",
       "3  37.124001  \n",
       "4  37.124001  "
      ]
     },
     "execution_count": 2,
     "metadata": {},
     "output_type": "execute_result"
    }
   ],
   "source": [
    "file_path = './data/ETTm2.csv'\n",
    "data = pd.read_csv(file_path)\n",
    "data.head()"
   ]
  },
  {
   "cell_type": "code",
   "execution_count": 55,
   "metadata": {},
   "outputs": [],
   "source": [
    "fs = 4"
   ]
  },
  {
   "cell_type": "code",
   "execution_count": 3,
   "metadata": {},
   "outputs": [
    {
     "data": {
      "text/plain": [
       "[<matplotlib.lines.Line2D at 0x276dfbe66a0>]"
      ]
     },
     "execution_count": 3,
     "metadata": {},
     "output_type": "execute_result"
    },
    {
     "data": {
      "image/png": "[encoded data removed]",
      "text/plain": [
       "<Figure size 432x288 with 1 Axes>"
      ]
     },
     "metadata": {
      "needs_background": "light"
     },
     "output_type": "display_data"
    }
   ],
   "source": [
    "ot = data.values[:,-1].astype(np.float64)\n",
    "plt.plot(ot)"
   ]
  },
  {
   "cell_type": "code",
   "execution_count": 45,
   "metadata": {},
   "outputs": [],
   "source": [
    "class LSTMDataSet(Dataset):\n",
    "    def __init__(self, \n",
    "                 data, \n",
    "                 seq_len,\n",
    "                 pred_len, \n",
    "                 train=True, \n",
    "                 test_size=0.2):\n",
    "        self.seq_len = seq_len\n",
    "        self.pred_len = pred_len\n",
    "        \n",
    "       \n",
    "        if train:\n",
    "            self.data_, _, = train_test_split(data, test_size=test_size,shuffle=False)\n",
    "        else:\n",
    "            _, self.data_ = train_test_split(data, test_size=test_size,shuffle=False)\n",
    "        self.data = self.data_.astype(np.float32)\n",
    "        self.data_len = self.data.shape[0] - seq_len - pred_len - 1\n",
    "\n",
    "    def __len__(self):\n",
    "        return self.data_len\n",
    "\n",
    "    def __getitem__(self, idx):\n",
    "        X = self.dft(self.data[idx:idx+self.seq_len,-1])\n",
    "        y = self.dft(self.data[idx+self.seq_len:idx+self.seq_len+self.pred_len,-1])\n",
    "        return X, y\n",
    "    def dft(self,series):\n",
    "        dft_series = np.fft.fft(series)\n",
    "        double_channel_series = np.stack((dft_series.real,dft_series.imag),axis=1)\n",
    "        return double_channel_series\n",
    "        "
   ]
  },
  {
   "cell_type": "code",
   "execution_count": 46,
   "metadata": {},
   "outputs": [],
   "source": [
    "input_size = 7  # Example input size\n",
    "hidden_size = 100\n",
    "batch_size = 1024\n",
    "seq_len = 96\n",
    "pred_len = 96\n",
    "lr = 1e-4\n",
    "num_epochs = 1_000\n",
    "\n",
    "trainset = LSTMDataSet(data=data.values[:,-1:],seq_len=seq_len,pred_len=pred_len,train=True)\n",
    "testset = LSTMDataSet(data=data.values[:,-1:],seq_len=seq_len,pred_len=pred_len,train=False)\n",
    "trainloader = DataLoader(trainset,batch_size=batch_size,shuffle=False)\n",
    "testloader = DataLoader(testset,batch_size=batch_size,shuffle=False)"
   ]
  },
  {
   "cell_type": "code",
   "execution_count": 47,
   "metadata": {},
   "outputs": [],
   "source": [
    "for bx,by in trainloader:\n",
    "    break"
   ]
  },
  {
   "cell_type": "code",
   "execution_count": 52,
   "metadata": {},
   "outputs": [
    {
     "data": {
      "text/plain": [
       "(torch.Size([1024, 96, 2]), torch.Size([1024, 96, 2]))"
      ]
     },
     "execution_count": 52,
     "metadata": {},
     "output_type": "execute_result"
    }
   ],
   "source": [
    "bx.shape,by.shape"
   ]
  },
  {
   "cell_type": "code",
   "execution_count": 54,
   "metadata": {},
   "outputs": [
    {
     "data": {
      "text/plain": [
       "[<matplotlib.lines.Line2D at 0x276e057c550>,\n",
       " <matplotlib.lines.Line2D at 0x276e5307dc0>]"
      ]
     },
     "execution_count": 54,
     "metadata": {},
     "output_type": "execute_result"
    },
    {
     "data": {
      "image/png": "[encoded data removed]",
      "text/plain": [
       "<Figure size 432x288 with 1 Axes>"
      ]
     },
     "metadata": {
      "needs_background": "light"
     },
     "output_type": "display_data"
    }
   ],
   "source": [
    "plt.plot(np.abs(bx[0]))"
   ]
  },
  {
   "cell_type": "code",
   "execution_count": null,
   "metadata": {},
   "outputs": [],
   "source": []
  }
 ],
 "metadata": {
  "kernelspec": {
   "display_name": "ptl",
   "language": "python",
   "name": "python3"
  },
  "language_info": {
   "codemirror_mode": {
    "name": "ipython",
    "version": 3
   },
   "file_extension": ".py",
   "mimetype": "text/x-python",
   "name": "python",
   "nbconvert_exporter": "python",
   "pygments_lexer": "ipython3",
   "version": "3.9.16"
  }
 },
 "nbformat": 4,
 "nbformat_minor": 2
}
