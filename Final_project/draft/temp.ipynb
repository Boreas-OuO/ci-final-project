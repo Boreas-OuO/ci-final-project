{
 "cells": [
  {
   "cell_type": "code",
   "execution_count": 11,
   "metadata": {},
   "outputs": [],
   "source": [
    "import pandas as pd\n",
    "import matplotlib.pyplot as plt"
   ]
  },
  {
   "cell_type": "code",
   "execution_count": 5,
   "metadata": {},
   "outputs": [
    {
     "data": {
      "text/html": [
       "<div>\n",
       "<style scoped>\n",
       "    .dataframe tbody tr th:only-of-type {\n",
       "        vertical-align: middle;\n",
       "    }\n",
       "\n",
       "    .dataframe tbody tr th {\n",
       "        vertical-align: top;\n",
       "    }\n",
       "\n",
       "    .dataframe thead th {\n",
       "        text-align: right;\n",
       "    }\n",
       "</style>\n",
       "<table border=\"1\" class=\"dataframe\">\n",
       "  <thead>\n",
       "    <tr style=\"text-align: right;\">\n",
       "      <th></th>\n",
       "      <th>x1</th>\n",
       "      <th>x2</th>\n",
       "      <th>y</th>\n",
       "    </tr>\n",
       "  </thead>\n",
       "  <tbody>\n",
       "    <tr>\n",
       "      <th>0</th>\n",
       "      <td>99</td>\n",
       "      <td>72</td>\n",
       "      <td>1</td>\n",
       "    </tr>\n",
       "    <tr>\n",
       "      <th>1</th>\n",
       "      <td>98</td>\n",
       "      <td>38</td>\n",
       "      <td>0</td>\n",
       "    </tr>\n",
       "    <tr>\n",
       "      <th>2</th>\n",
       "      <td>97</td>\n",
       "      <td>96</td>\n",
       "      <td>1</td>\n",
       "    </tr>\n",
       "  </tbody>\n",
       "</table>\n",
       "</div>"
      ],
      "text/plain": [
       "   x1  x2  y\n",
       "0  99  72  1\n",
       "1  98  38  0\n",
       "2  97  96  1"
      ]
     },
     "execution_count": 5,
     "metadata": {},
     "output_type": "execute_result"
    }
   ],
   "source": [
    "data = pd.DataFrame({'x1':[99,98,97],'x2':[72,38,96],'y':[1,0,1]})\n",
    "data"
   ]
  },
  {
   "cell_type": "code",
   "execution_count": 115,
   "metadata": {},
   "outputs": [],
   "source": [
    "po = data[data['y']==1][['x1','x2']]\n",
    "po\n",
    "ne = data[data['y']==0][['x1','x2']]"
   ]
  },
  {
   "cell_type": "code",
   "execution_count": 116,
   "metadata": {},
   "outputs": [
    {
     "data": {
      "text/plain": [
       "<matplotlib.collections.PathCollection at 0x20e904e8be0>"
      ]
     },
     "execution_count": 116,
     "metadata": {},
     "output_type": "execute_result"
    },
    {
     "data": {
      "image/png": "[encoded data removed]",
      "text/plain": [
       "<Figure size 432x288 with 1 Axes>"
      ]
     },
     "metadata": {
      "needs_background": "light"
     },
     "output_type": "display_data"
    }
   ],
   "source": [
    "plt.scatter(data[data['y']==1]['x1'],data[data['y']==1]['x2'],marker='+',c='r')\n",
    "plt.scatter(data[data['y']==0]['x1'],data[data['y']==0]['x2'],marker='o',c='b')"
   ]
  },
  {
   "cell_type": "code",
   "execution_count": 267,
   "metadata": {},
   "outputs": [],
   "source": [
    "import numpy as np\n",
    "m = 200\n",
    "X = np.random.rand(m,2)*100\n",
    "X\n",
    "y = np.array([1 if (sx[0]-50)**2+(sx[1]-50)**2>100 else 0 for sx in X])\n"
   ]
  },
  {
   "cell_type": "code",
   "execution_count": 260,
   "metadata": {},
   "outputs": [],
   "source": [
    "import numpy as np\n",
    "def sigmoid(z):\n",
    "    return 1/(1+np.exp(-z))\n",
    "def h_theta(x,theta):\n",
    "    return sigmoid(np.vdot(x,theta))\n",
    "def J(y,pred_y):\n",
    "    loss = 0\n",
    "    m = len(y)\n",
    "    e=1e-10\n",
    "    for i in range(m):\n",
    "        loss += -(1/m)*(y[i]*np.log(pred_y[i]+e)+(1-y[i])*np.log(1-pred_y[i]+e))\n",
    "    return loss"
   ]
  },
  {
   "cell_type": "code",
   "execution_count": 270,
   "metadata": {},
   "outputs": [],
   "source": [
    "num_iter = 100\n",
    "lbda = 0.2\n",
    "alpha = 1e-3\n",
    "X_ = np.concatenate([np.ones((X.shape[0],1)),X],axis=-1)\n",
    "theta = np.zeros_like(X_[0])\n",
    "loss_log = np.zeros(num_iter,)\n",
    "pred_y = np.zeros_like(y)\n",
    "for iter in range(num_iter):\n",
    "    grad= 0 \n",
    "    for i in range(m):\n",
    "        pred_y[i] = h_theta(X_[i],theta)\n",
    "        reg = (lbda/m)*theta\n",
    "        reg[0] = 0\n",
    "        grad +=(1/m)*(pred_y[i] - y[i]) * X_[i]\n",
    "    loss_log[iter] = J(y,pred_y)\n",
    "    theta -= alpha*(grad+reg)"
   ]
  },
  {
   "cell_type": "code",
   "execution_count": 271,
   "metadata": {},
   "outputs": [
    {
     "data": {
      "text/plain": [
       "array([0.02387   , 0.66287443, 0.72796053])"
      ]
     },
     "execution_count": 271,
     "metadata": {},
     "output_type": "execute_result"
    }
   ],
   "source": [
    "theta"
   ]
  },
  {
   "cell_type": "code",
   "execution_count": 272,
   "metadata": {},
   "outputs": [
    {
     "data": {
      "text/plain": [
       "1.0"
      ]
     },
     "execution_count": 272,
     "metadata": {},
     "output_type": "execute_result"
    }
   ],
   "source": [
    "h_theta(X_[-1],theta)"
   ]
  },
  {
   "cell_type": "code",
   "execution_count": 273,
   "metadata": {},
   "outputs": [
    {
     "data": {
      "text/plain": [
       "array([22.3350754 , 22.3350754 , 22.3350754 , 22.3350754 , 22.3350754 ,\n",
       "       19.34171478, 16.34835416, 13.47012279, 12.4339595 , 11.97344248,\n",
       "       11.1675377 , 10.59189143, 10.01624515,  9.9011159 ,  9.55572814,\n",
       "        9.44059888,  8.74982335,  8.51956484,  8.28930633,  8.05904783,\n",
       "        7.71366006,  7.59853081,  7.3682723 ,  7.3682723 ,  7.25314304,\n",
       "        7.13801379,  7.02288453,  6.90775528,  6.79262602,  6.79262602,\n",
       "        6.79262602,  6.67749677,  6.67749677,  6.33210901,  6.1018505 ,\n",
       "        6.1018505 ,  5.75646273,  5.64133348,  5.64133348,  5.52620422,\n",
       "        5.52620422,  5.29594571,  5.29594571,  5.18081646,  5.18081646,\n",
       "        5.18081646,  5.18081646,  5.18081646,  5.18081646,  5.0656872 ,\n",
       "        4.95055795,  4.8354287 ,  4.8354287 ,  4.8354287 ,  4.8354287 ,\n",
       "        4.8354287 ,  4.8354287 ,  4.8354287 ,  4.8354287 ,  4.72029944,\n",
       "        4.49004093,  4.49004093,  4.49004093,  4.49004093,  4.49004093,\n",
       "        4.49004093,  4.37491168,  4.25978242,  4.14465317,  4.14465317,\n",
       "        4.14465317,  4.02952391,  4.02952391,  4.02952391,  4.02952391,\n",
       "        4.02952391,  4.02952391,  4.02952391,  3.91439466,  3.91439466,\n",
       "        3.91439466,  3.91439466,  3.91439466,  3.91439466,  3.7992654 ,\n",
       "        3.7992654 ,  3.7992654 ,  3.7992654 ,  3.7992654 ,  3.7992654 ,\n",
       "        3.7992654 ,  3.68413615,  3.68413615,  3.68413615,  3.68413615,\n",
       "        3.68413615,  3.68413615,  3.68413615,  3.56900689,  3.56900689])"
      ]
     },
     "execution_count": 273,
     "metadata": {},
     "output_type": "execute_result"
    }
   ],
   "source": [
    "loss_log"
   ]
  },
  {
   "cell_type": "code",
   "execution_count": 274,
   "metadata": {},
   "outputs": [
    {
     "data": {
      "text/plain": [
       "<matplotlib.collections.PathCollection at 0x20e90bac8e0>"
      ]
     },
     "execution_count": 274,
     "metadata": {},
     "output_type": "execute_result"
    },
    {
     "data": {
      "image/png": "[encoded data removed]",
      "text/plain": [
       "<Figure size 432x288 with 1 Axes>"
      ]
     },
     "metadata": {
      "needs_background": "light"
     },
     "output_type": "display_data"
    }
   ],
   "source": [
    "plt.scatter(X[pred_y>=0.5][:,0],X[pred_y>=0.5][:,1],marker='+',c='r')\n",
    "plt.scatter(X[pred_y<0.5][:,0],X[pred_y<0.5][:,1],marker='o',c='b')"
   ]
  },
  {
   "cell_type": "code",
   "execution_count": 275,
   "metadata": {},
   "outputs": [
    {
     "data": {
      "text/plain": [
       "<matplotlib.collections.PathCollection at 0x20e90cc2790>"
      ]
     },
     "execution_count": 275,
     "metadata": {},
     "output_type": "execute_result"
    },
    {
     "data": {
      "image/png": "[encoded data removed]",
      "text/plain": [
       "<Figure size 432x288 with 1 Axes>"
      ]
     },
     "metadata": {
      "needs_background": "light"
     },
     "output_type": "display_data"
    },
    {
     "ename": "",
     "evalue": "",
     "output_type": "error",
     "traceback": [
      "\u001b[1;31mThe Kernel crashed while executing code in the the current cell or a previous cell. Please review the code in the cell(s) to identify a possible cause of the failure. Click <a href='https://aka.ms/vscodeJupyterKernelCrash'>here</a> for more info. View Jupyter <a href='command:jupyter.viewOutput'>log</a> for further details."
     ]
    }
   ],
   "source": [
    "plt.scatter(X[y>=0.5][:,0],X[y>=0.5][:,1],marker='+',c='r')\n",
    "plt.scatter(X[y<0.5][:,0],X[y<0.5][:,1],marker='o',c='b')"
   ]
  },
  {
   "cell_type": "code",
   "execution_count": null,
   "metadata": {},
   "outputs": [],
   "source": []
  }
 ],
 "metadata": {
  "kernelspec": {
   "display_name": "ptl",
   "language": "python",
   "name": "python3"
  },
  "language_info": {
   "codemirror_mode": {
    "name": "ipython",
    "version": 3
   },
   "file_extension": ".py",
   "mimetype": "text/x-python",
   "name": "python",
   "nbconvert_exporter": "python",
   "pygments_lexer": "ipython3",
   "version": "3.9.16"
  }
 },
 "nbformat": 4,
 "nbformat_minor": 2
}
